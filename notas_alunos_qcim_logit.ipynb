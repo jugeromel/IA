{
  "nbformat": 4,
  "nbformat_minor": 0,
  "metadata": {
    "colab": {
      "provenance": [],
      "authorship_tag": "ABX9TyMG3hU5rnbhSIvfxHuSHFSj",
      "include_colab_link": true
    },
    "kernelspec": {
      "name": "python3",
      "display_name": "Python 3"
    },
    "language_info": {
      "name": "python"
    }
  },
  "cells": [
    {
      "cell_type": "markdown",
      "metadata": {
        "id": "view-in-github",
        "colab_type": "text"
      },
      "source": [
        "<a href=\"https://colab.research.google.com/github/jugeromel/IA/blob/main/notas_alunos_qcim_logit.ipynb\" target=\"_parent\"><img src=\"https://colab.research.google.com/assets/colab-badge.svg\" alt=\"Open In Colab\"/></a>"
      ]
    },
    {
      "cell_type": "code",
      "source": [
        "from google.colab import files\n",
        "uploaded = files.upload()"
      ],
      "metadata": {
        "colab": {
          "base_uri": "https://localhost:8080/",
          "height": 74
        },
        "id": "5aYAnKaQqQbO",
        "outputId": "d6336734-1fae-472d-a105-72f66d793166"
      },
      "execution_count": 27,
      "outputs": [
        {
          "output_type": "display_data",
          "data": {
            "text/plain": [
              "<IPython.core.display.HTML object>"
            ],
            "text/html": [
              "\n",
              "     <input type=\"file\" id=\"files-e45b5ca7-1b2f-4392-8ff7-04702c18b697\" name=\"files[]\" multiple disabled\n",
              "        style=\"border:none\" />\n",
              "     <output id=\"result-e45b5ca7-1b2f-4392-8ff7-04702c18b697\">\n",
              "      Upload widget is only available when the cell has been executed in the\n",
              "      current browser session. Please rerun this cell to enable.\n",
              "      </output>\n",
              "      <script>// Copyright 2017 Google LLC\n",
              "//\n",
              "// Licensed under the Apache License, Version 2.0 (the \"License\");\n",
              "// you may not use this file except in compliance with the License.\n",
              "// You may obtain a copy of the License at\n",
              "//\n",
              "//      http://www.apache.org/licenses/LICENSE-2.0\n",
              "//\n",
              "// Unless required by applicable law or agreed to in writing, software\n",
              "// distributed under the License is distributed on an \"AS IS\" BASIS,\n",
              "// WITHOUT WARRANTIES OR CONDITIONS OF ANY KIND, either express or implied.\n",
              "// See the License for the specific language governing permissions and\n",
              "// limitations under the License.\n",
              "\n",
              "/**\n",
              " * @fileoverview Helpers for google.colab Python module.\n",
              " */\n",
              "(function(scope) {\n",
              "function span(text, styleAttributes = {}) {\n",
              "  const element = document.createElement('span');\n",
              "  element.textContent = text;\n",
              "  for (const key of Object.keys(styleAttributes)) {\n",
              "    element.style[key] = styleAttributes[key];\n",
              "  }\n",
              "  return element;\n",
              "}\n",
              "\n",
              "// Max number of bytes which will be uploaded at a time.\n",
              "const MAX_PAYLOAD_SIZE = 100 * 1024;\n",
              "\n",
              "function _uploadFiles(inputId, outputId) {\n",
              "  const steps = uploadFilesStep(inputId, outputId);\n",
              "  const outputElement = document.getElementById(outputId);\n",
              "  // Cache steps on the outputElement to make it available for the next call\n",
              "  // to uploadFilesContinue from Python.\n",
              "  outputElement.steps = steps;\n",
              "\n",
              "  return _uploadFilesContinue(outputId);\n",
              "}\n",
              "\n",
              "// This is roughly an async generator (not supported in the browser yet),\n",
              "// where there are multiple asynchronous steps and the Python side is going\n",
              "// to poll for completion of each step.\n",
              "// This uses a Promise to block the python side on completion of each step,\n",
              "// then passes the result of the previous step as the input to the next step.\n",
              "function _uploadFilesContinue(outputId) {\n",
              "  const outputElement = document.getElementById(outputId);\n",
              "  const steps = outputElement.steps;\n",
              "\n",
              "  const next = steps.next(outputElement.lastPromiseValue);\n",
              "  return Promise.resolve(next.value.promise).then((value) => {\n",
              "    // Cache the last promise value to make it available to the next\n",
              "    // step of the generator.\n",
              "    outputElement.lastPromiseValue = value;\n",
              "    return next.value.response;\n",
              "  });\n",
              "}\n",
              "\n",
              "/**\n",
              " * Generator function which is called between each async step of the upload\n",
              " * process.\n",
              " * @param {string} inputId Element ID of the input file picker element.\n",
              " * @param {string} outputId Element ID of the output display.\n",
              " * @return {!Iterable<!Object>} Iterable of next steps.\n",
              " */\n",
              "function* uploadFilesStep(inputId, outputId) {\n",
              "  const inputElement = document.getElementById(inputId);\n",
              "  inputElement.disabled = false;\n",
              "\n",
              "  const outputElement = document.getElementById(outputId);\n",
              "  outputElement.innerHTML = '';\n",
              "\n",
              "  const pickedPromise = new Promise((resolve) => {\n",
              "    inputElement.addEventListener('change', (e) => {\n",
              "      resolve(e.target.files);\n",
              "    });\n",
              "  });\n",
              "\n",
              "  const cancel = document.createElement('button');\n",
              "  inputElement.parentElement.appendChild(cancel);\n",
              "  cancel.textContent = 'Cancel upload';\n",
              "  const cancelPromise = new Promise((resolve) => {\n",
              "    cancel.onclick = () => {\n",
              "      resolve(null);\n",
              "    };\n",
              "  });\n",
              "\n",
              "  // Wait for the user to pick the files.\n",
              "  const files = yield {\n",
              "    promise: Promise.race([pickedPromise, cancelPromise]),\n",
              "    response: {\n",
              "      action: 'starting',\n",
              "    }\n",
              "  };\n",
              "\n",
              "  cancel.remove();\n",
              "\n",
              "  // Disable the input element since further picks are not allowed.\n",
              "  inputElement.disabled = true;\n",
              "\n",
              "  if (!files) {\n",
              "    return {\n",
              "      response: {\n",
              "        action: 'complete',\n",
              "      }\n",
              "    };\n",
              "  }\n",
              "\n",
              "  for (const file of files) {\n",
              "    const li = document.createElement('li');\n",
              "    li.append(span(file.name, {fontWeight: 'bold'}));\n",
              "    li.append(span(\n",
              "        `(${file.type || 'n/a'}) - ${file.size} bytes, ` +\n",
              "        `last modified: ${\n",
              "            file.lastModifiedDate ? file.lastModifiedDate.toLocaleDateString() :\n",
              "                                    'n/a'} - `));\n",
              "    const percent = span('0% done');\n",
              "    li.appendChild(percent);\n",
              "\n",
              "    outputElement.appendChild(li);\n",
              "\n",
              "    const fileDataPromise = new Promise((resolve) => {\n",
              "      const reader = new FileReader();\n",
              "      reader.onload = (e) => {\n",
              "        resolve(e.target.result);\n",
              "      };\n",
              "      reader.readAsArrayBuffer(file);\n",
              "    });\n",
              "    // Wait for the data to be ready.\n",
              "    let fileData = yield {\n",
              "      promise: fileDataPromise,\n",
              "      response: {\n",
              "        action: 'continue',\n",
              "      }\n",
              "    };\n",
              "\n",
              "    // Use a chunked sending to avoid message size limits. See b/62115660.\n",
              "    let position = 0;\n",
              "    do {\n",
              "      const length = Math.min(fileData.byteLength - position, MAX_PAYLOAD_SIZE);\n",
              "      const chunk = new Uint8Array(fileData, position, length);\n",
              "      position += length;\n",
              "\n",
              "      const base64 = btoa(String.fromCharCode.apply(null, chunk));\n",
              "      yield {\n",
              "        response: {\n",
              "          action: 'append',\n",
              "          file: file.name,\n",
              "          data: base64,\n",
              "        },\n",
              "      };\n",
              "\n",
              "      let percentDone = fileData.byteLength === 0 ?\n",
              "          100 :\n",
              "          Math.round((position / fileData.byteLength) * 100);\n",
              "      percent.textContent = `${percentDone}% done`;\n",
              "\n",
              "    } while (position < fileData.byteLength);\n",
              "  }\n",
              "\n",
              "  // All done.\n",
              "  yield {\n",
              "    response: {\n",
              "      action: 'complete',\n",
              "    }\n",
              "  };\n",
              "}\n",
              "\n",
              "scope.google = scope.google || {};\n",
              "scope.google.colab = scope.google.colab || {};\n",
              "scope.google.colab._files = {\n",
              "  _uploadFiles,\n",
              "  _uploadFilesContinue,\n",
              "};\n",
              "})(self);\n",
              "</script> "
            ]
          },
          "metadata": {}
        },
        {
          "output_type": "stream",
          "name": "stdout",
          "text": [
            "Saving dados_qcim - dados_qcim (1).csv to dados_qcim - dados_qcim (1) (1).csv\n"
          ]
        }
      ]
    },
    {
      "cell_type": "code",
      "execution_count": 28,
      "metadata": {
        "colab": {
          "base_uri": "https://localhost:8080/",
          "height": 206
        },
        "id": "CRv7y2Bypa9g",
        "outputId": "a12673a8-0c22-4cd8-a8d1-ff296b2045a8"
      },
      "outputs": [
        {
          "output_type": "execute_result",
          "data": {
            "text/plain": [
              "    Ano  Nº Inscr.                                  Nome Data nascimento  \\\n",
              "0  2020    4000067               RHUAN FERREIRA SANT ANA        20/07/93   \n",
              "1  2020    4000104               JONATHAN MATOS DE FARIA        15/02/95   \n",
              "2  2020    4001166        JONATHAN MACHADO PINTO PEREIRA        15/01/92   \n",
              "3  2020    4001588         MICAEL LUCAS MONTEIRO PEDROSA        28/06/97   \n",
              "4  2020    4002054  EDELSO NEPOMUCENO DE OLIVEIRA JUNIOR        26/12/92   \n",
              "\n",
              "   Idade quando fez o concurso    PO    RE    PT    MF  \n",
              "0                           27  66,0  75,0  24,0  59,4  \n",
              "1                           25  80,0  84,0  32,0  71,2  \n",
              "2                           28  72,0  80,0  20,0  63,2  \n",
              "3                           23  68,0  76,5  20,0  60,1  \n",
              "4                           27  68,0  81,5  24,0  61,9  "
            ],
            "text/html": [
              "\n",
              "  <div id=\"df-fb732be3-8eca-47da-8df6-a0e0be57baf8\" class=\"colab-df-container\">\n",
              "    <div>\n",
              "<style scoped>\n",
              "    .dataframe tbody tr th:only-of-type {\n",
              "        vertical-align: middle;\n",
              "    }\n",
              "\n",
              "    .dataframe tbody tr th {\n",
              "        vertical-align: top;\n",
              "    }\n",
              "\n",
              "    .dataframe thead th {\n",
              "        text-align: right;\n",
              "    }\n",
              "</style>\n",
              "<table border=\"1\" class=\"dataframe\">\n",
              "  <thead>\n",
              "    <tr style=\"text-align: right;\">\n",
              "      <th></th>\n",
              "      <th>Ano</th>\n",
              "      <th>Nº Inscr.</th>\n",
              "      <th>Nome</th>\n",
              "      <th>Data nascimento</th>\n",
              "      <th>Idade quando fez o concurso</th>\n",
              "      <th>PO</th>\n",
              "      <th>RE</th>\n",
              "      <th>PT</th>\n",
              "      <th>MF</th>\n",
              "    </tr>\n",
              "  </thead>\n",
              "  <tbody>\n",
              "    <tr>\n",
              "      <th>0</th>\n",
              "      <td>2020</td>\n",
              "      <td>4000067</td>\n",
              "      <td>RHUAN FERREIRA SANT ANA</td>\n",
              "      <td>20/07/93</td>\n",
              "      <td>27</td>\n",
              "      <td>66,0</td>\n",
              "      <td>75,0</td>\n",
              "      <td>24,0</td>\n",
              "      <td>59,4</td>\n",
              "    </tr>\n",
              "    <tr>\n",
              "      <th>1</th>\n",
              "      <td>2020</td>\n",
              "      <td>4000104</td>\n",
              "      <td>JONATHAN MATOS DE FARIA</td>\n",
              "      <td>15/02/95</td>\n",
              "      <td>25</td>\n",
              "      <td>80,0</td>\n",
              "      <td>84,0</td>\n",
              "      <td>32,0</td>\n",
              "      <td>71,2</td>\n",
              "    </tr>\n",
              "    <tr>\n",
              "      <th>2</th>\n",
              "      <td>2020</td>\n",
              "      <td>4001166</td>\n",
              "      <td>JONATHAN MACHADO PINTO PEREIRA</td>\n",
              "      <td>15/01/92</td>\n",
              "      <td>28</td>\n",
              "      <td>72,0</td>\n",
              "      <td>80,0</td>\n",
              "      <td>20,0</td>\n",
              "      <td>63,2</td>\n",
              "    </tr>\n",
              "    <tr>\n",
              "      <th>3</th>\n",
              "      <td>2020</td>\n",
              "      <td>4001588</td>\n",
              "      <td>MICAEL LUCAS MONTEIRO PEDROSA</td>\n",
              "      <td>28/06/97</td>\n",
              "      <td>23</td>\n",
              "      <td>68,0</td>\n",
              "      <td>76,5</td>\n",
              "      <td>20,0</td>\n",
              "      <td>60,1</td>\n",
              "    </tr>\n",
              "    <tr>\n",
              "      <th>4</th>\n",
              "      <td>2020</td>\n",
              "      <td>4002054</td>\n",
              "      <td>EDELSO NEPOMUCENO DE OLIVEIRA JUNIOR</td>\n",
              "      <td>26/12/92</td>\n",
              "      <td>27</td>\n",
              "      <td>68,0</td>\n",
              "      <td>81,5</td>\n",
              "      <td>24,0</td>\n",
              "      <td>61,9</td>\n",
              "    </tr>\n",
              "  </tbody>\n",
              "</table>\n",
              "</div>\n",
              "    <div class=\"colab-df-buttons\">\n",
              "\n",
              "  <div class=\"colab-df-container\">\n",
              "    <button class=\"colab-df-convert\" onclick=\"convertToInteractive('df-fb732be3-8eca-47da-8df6-a0e0be57baf8')\"\n",
              "            title=\"Convert this dataframe to an interactive table.\"\n",
              "            style=\"display:none;\">\n",
              "\n",
              "  <svg xmlns=\"http://www.w3.org/2000/svg\" height=\"24px\" viewBox=\"0 -960 960 960\">\n",
              "    <path d=\"M120-120v-720h720v720H120Zm60-500h600v-160H180v160Zm220 220h160v-160H400v160Zm0 220h160v-160H400v160ZM180-400h160v-160H180v160Zm440 0h160v-160H620v160ZM180-180h160v-160H180v160Zm440 0h160v-160H620v160Z\"/>\n",
              "  </svg>\n",
              "    </button>\n",
              "\n",
              "  <style>\n",
              "    .colab-df-container {\n",
              "      display:flex;\n",
              "      gap: 12px;\n",
              "    }\n",
              "\n",
              "    .colab-df-convert {\n",
              "      background-color: #E8F0FE;\n",
              "      border: none;\n",
              "      border-radius: 50%;\n",
              "      cursor: pointer;\n",
              "      display: none;\n",
              "      fill: #1967D2;\n",
              "      height: 32px;\n",
              "      padding: 0 0 0 0;\n",
              "      width: 32px;\n",
              "    }\n",
              "\n",
              "    .colab-df-convert:hover {\n",
              "      background-color: #E2EBFA;\n",
              "      box-shadow: 0px 1px 2px rgba(60, 64, 67, 0.3), 0px 1px 3px 1px rgba(60, 64, 67, 0.15);\n",
              "      fill: #174EA6;\n",
              "    }\n",
              "\n",
              "    .colab-df-buttons div {\n",
              "      margin-bottom: 4px;\n",
              "    }\n",
              "\n",
              "    [theme=dark] .colab-df-convert {\n",
              "      background-color: #3B4455;\n",
              "      fill: #D2E3FC;\n",
              "    }\n",
              "\n",
              "    [theme=dark] .colab-df-convert:hover {\n",
              "      background-color: #434B5C;\n",
              "      box-shadow: 0px 1px 3px 1px rgba(0, 0, 0, 0.15);\n",
              "      filter: drop-shadow(0px 1px 2px rgba(0, 0, 0, 0.3));\n",
              "      fill: #FFFFFF;\n",
              "    }\n",
              "  </style>\n",
              "\n",
              "    <script>\n",
              "      const buttonEl =\n",
              "        document.querySelector('#df-fb732be3-8eca-47da-8df6-a0e0be57baf8 button.colab-df-convert');\n",
              "      buttonEl.style.display =\n",
              "        google.colab.kernel.accessAllowed ? 'block' : 'none';\n",
              "\n",
              "      async function convertToInteractive(key) {\n",
              "        const element = document.querySelector('#df-fb732be3-8eca-47da-8df6-a0e0be57baf8');\n",
              "        const dataTable =\n",
              "          await google.colab.kernel.invokeFunction('convertToInteractive',\n",
              "                                                    [key], {});\n",
              "        if (!dataTable) return;\n",
              "\n",
              "        const docLinkHtml = 'Like what you see? Visit the ' +\n",
              "          '<a target=\"_blank\" href=https://colab.research.google.com/notebooks/data_table.ipynb>data table notebook</a>'\n",
              "          + ' to learn more about interactive tables.';\n",
              "        element.innerHTML = '';\n",
              "        dataTable['output_type'] = 'display_data';\n",
              "        await google.colab.output.renderOutput(dataTable, element);\n",
              "        const docLink = document.createElement('div');\n",
              "        docLink.innerHTML = docLinkHtml;\n",
              "        element.appendChild(docLink);\n",
              "      }\n",
              "    </script>\n",
              "  </div>\n",
              "\n",
              "\n",
              "    <div id=\"df-82ca4ad7-f094-48f7-8357-ca0c3e0d26cb\">\n",
              "      <button class=\"colab-df-quickchart\" onclick=\"quickchart('df-82ca4ad7-f094-48f7-8357-ca0c3e0d26cb')\"\n",
              "                title=\"Suggest charts\"\n",
              "                style=\"display:none;\">\n",
              "\n",
              "<svg xmlns=\"http://www.w3.org/2000/svg\" height=\"24px\"viewBox=\"0 0 24 24\"\n",
              "     width=\"24px\">\n",
              "    <g>\n",
              "        <path d=\"M19 3H5c-1.1 0-2 .9-2 2v14c0 1.1.9 2 2 2h14c1.1 0 2-.9 2-2V5c0-1.1-.9-2-2-2zM9 17H7v-7h2v7zm4 0h-2V7h2v10zm4 0h-2v-4h2v4z\"/>\n",
              "    </g>\n",
              "</svg>\n",
              "      </button>\n",
              "\n",
              "<style>\n",
              "  .colab-df-quickchart {\n",
              "      --bg-color: #E8F0FE;\n",
              "      --fill-color: #1967D2;\n",
              "      --hover-bg-color: #E2EBFA;\n",
              "      --hover-fill-color: #174EA6;\n",
              "      --disabled-fill-color: #AAA;\n",
              "      --disabled-bg-color: #DDD;\n",
              "  }\n",
              "\n",
              "  [theme=dark] .colab-df-quickchart {\n",
              "      --bg-color: #3B4455;\n",
              "      --fill-color: #D2E3FC;\n",
              "      --hover-bg-color: #434B5C;\n",
              "      --hover-fill-color: #FFFFFF;\n",
              "      --disabled-bg-color: #3B4455;\n",
              "      --disabled-fill-color: #666;\n",
              "  }\n",
              "\n",
              "  .colab-df-quickchart {\n",
              "    background-color: var(--bg-color);\n",
              "    border: none;\n",
              "    border-radius: 50%;\n",
              "    cursor: pointer;\n",
              "    display: none;\n",
              "    fill: var(--fill-color);\n",
              "    height: 32px;\n",
              "    padding: 0;\n",
              "    width: 32px;\n",
              "  }\n",
              "\n",
              "  .colab-df-quickchart:hover {\n",
              "    background-color: var(--hover-bg-color);\n",
              "    box-shadow: 0 1px 2px rgba(60, 64, 67, 0.3), 0 1px 3px 1px rgba(60, 64, 67, 0.15);\n",
              "    fill: var(--button-hover-fill-color);\n",
              "  }\n",
              "\n",
              "  .colab-df-quickchart-complete:disabled,\n",
              "  .colab-df-quickchart-complete:disabled:hover {\n",
              "    background-color: var(--disabled-bg-color);\n",
              "    fill: var(--disabled-fill-color);\n",
              "    box-shadow: none;\n",
              "  }\n",
              "\n",
              "  .colab-df-spinner {\n",
              "    border: 2px solid var(--fill-color);\n",
              "    border-color: transparent;\n",
              "    border-bottom-color: var(--fill-color);\n",
              "    animation:\n",
              "      spin 1s steps(1) infinite;\n",
              "  }\n",
              "\n",
              "  @keyframes spin {\n",
              "    0% {\n",
              "      border-color: transparent;\n",
              "      border-bottom-color: var(--fill-color);\n",
              "      border-left-color: var(--fill-color);\n",
              "    }\n",
              "    20% {\n",
              "      border-color: transparent;\n",
              "      border-left-color: var(--fill-color);\n",
              "      border-top-color: var(--fill-color);\n",
              "    }\n",
              "    30% {\n",
              "      border-color: transparent;\n",
              "      border-left-color: var(--fill-color);\n",
              "      border-top-color: var(--fill-color);\n",
              "      border-right-color: var(--fill-color);\n",
              "    }\n",
              "    40% {\n",
              "      border-color: transparent;\n",
              "      border-right-color: var(--fill-color);\n",
              "      border-top-color: var(--fill-color);\n",
              "    }\n",
              "    60% {\n",
              "      border-color: transparent;\n",
              "      border-right-color: var(--fill-color);\n",
              "    }\n",
              "    80% {\n",
              "      border-color: transparent;\n",
              "      border-right-color: var(--fill-color);\n",
              "      border-bottom-color: var(--fill-color);\n",
              "    }\n",
              "    90% {\n",
              "      border-color: transparent;\n",
              "      border-bottom-color: var(--fill-color);\n",
              "    }\n",
              "  }\n",
              "</style>\n",
              "\n",
              "      <script>\n",
              "        async function quickchart(key) {\n",
              "          const quickchartButtonEl =\n",
              "            document.querySelector('#' + key + ' button');\n",
              "          quickchartButtonEl.disabled = true;  // To prevent multiple clicks.\n",
              "          quickchartButtonEl.classList.add('colab-df-spinner');\n",
              "          try {\n",
              "            const charts = await google.colab.kernel.invokeFunction(\n",
              "                'suggestCharts', [key], {});\n",
              "          } catch (error) {\n",
              "            console.error('Error during call to suggestCharts:', error);\n",
              "          }\n",
              "          quickchartButtonEl.classList.remove('colab-df-spinner');\n",
              "          quickchartButtonEl.classList.add('colab-df-quickchart-complete');\n",
              "        }\n",
              "        (() => {\n",
              "          let quickchartButtonEl =\n",
              "            document.querySelector('#df-82ca4ad7-f094-48f7-8357-ca0c3e0d26cb button');\n",
              "          quickchartButtonEl.style.display =\n",
              "            google.colab.kernel.accessAllowed ? 'block' : 'none';\n",
              "        })();\n",
              "      </script>\n",
              "    </div>\n",
              "\n",
              "    </div>\n",
              "  </div>\n"
            ],
            "application/vnd.google.colaboratory.intrinsic+json": {
              "type": "dataframe",
              "variable_name": "df",
              "summary": "{\n  \"name\": \"df\",\n  \"rows\": 86,\n  \"fields\": [\n    {\n      \"column\": \"Ano\",\n      \"properties\": {\n        \"dtype\": \"number\",\n        \"std\": 1,\n        \"min\": 2020,\n        \"max\": 2024,\n        \"num_unique_values\": 5,\n        \"samples\": [\n          2021,\n          2024,\n          2022\n        ],\n        \"semantic_type\": \"\",\n        \"description\": \"\"\n      }\n    },\n    {\n      \"column\": \"N\\u00ba Inscr.\",\n      \"properties\": {\n        \"dtype\": \"number\",\n        \"std\": 227868,\n        \"min\": 4000024,\n        \"max\": 4508160,\n        \"num_unique_values\": 85,\n        \"samples\": [\n          4004893,\n          4000067,\n          4001078\n        ],\n        \"semantic_type\": \"\",\n        \"description\": \"\"\n      }\n    },\n    {\n      \"column\": \"Nome\",\n      \"properties\": {\n        \"dtype\": \"string\",\n        \"num_unique_values\": 71,\n        \"samples\": [\n          \"GISELE TEIXEIRA DA ROCHA\",\n          \"RHUAN FERREIRA SANT ANA\",\n          \"EVERTON MENDES DOS SANTOS\"\n        ],\n        \"semantic_type\": \"\",\n        \"description\": \"\"\n      }\n    },\n    {\n      \"column\": \"Data nascimento\",\n      \"properties\": {\n        \"dtype\": \"object\",\n        \"num_unique_values\": 75,\n        \"samples\": [\n          \"26/12/92\",\n          \"17/04/2001\",\n          \"01/02/92\"\n        ],\n        \"semantic_type\": \"\",\n        \"description\": \"\"\n      }\n    },\n    {\n      \"column\": \"Idade quando fez o concurso\",\n      \"properties\": {\n        \"dtype\": \"number\",\n        \"std\": 1,\n        \"min\": 22,\n        \"max\": 29,\n        \"num_unique_values\": 8,\n        \"samples\": [\n          25,\n          24,\n          27\n        ],\n        \"semantic_type\": \"\",\n        \"description\": \"\"\n      }\n    },\n    {\n      \"column\": \"PO\",\n      \"properties\": {\n        \"dtype\": \"object\",\n        \"num_unique_values\": 19,\n        \"samples\": [\n          \"66,0\",\n          \"70,0\",\n          \"76,0\"\n        ],\n        \"semantic_type\": \"\",\n        \"description\": \"\"\n      }\n    },\n    {\n      \"column\": \"RE\",\n      \"properties\": {\n        \"dtype\": \"object\",\n        \"num_unique_values\": 37,\n        \"samples\": [\n          \"85,0\",\n          \"78,5\",\n          \"81,5\"\n        ],\n        \"semantic_type\": \"\",\n        \"description\": \"\"\n      }\n    },\n    {\n      \"column\": \"PT\",\n      \"properties\": {\n        \"dtype\": \"category\",\n        \"num_unique_values\": 15,\n        \"samples\": [\n          \"0,0\",\n          \"22,0\",\n          \"24,0\"\n        ],\n        \"semantic_type\": \"\",\n        \"description\": \"\"\n      }\n    },\n    {\n      \"column\": \"MF\",\n      \"properties\": {\n        \"dtype\": \"string\",\n        \"num_unique_values\": 75,\n        \"samples\": [\n          \"61,9\",\n          \"54\",\n          \"60,5\"\n        ],\n        \"semantic_type\": \"\",\n        \"description\": \"\"\n      }\n    }\n  ]\n}"
            }
          },
          "metadata": {},
          "execution_count": 28
        }
      ],
      "source": [
        "import pandas as pd\n",
        "\n",
        "df = pd.read_csv(\"dados_qcim - dados_qcim (1).csv\")\n",
        "df.head()"
      ]
    },
    {
      "cell_type": "code",
      "source": [
        "# Substituir vírgula por ponto e converter para float\n",
        "df[\"MF\"] = df[\"MF\"].str.replace(\",\", \".\").astype(float)\n"
      ],
      "metadata": {
        "colab": {
          "base_uri": "https://localhost:8080/",
          "height": 315
        },
        "id": "tk_bv7RMv4Uy",
        "outputId": "9256bbb3-d8eb-43fb-eb4c-9c8e181c2bba"
      },
      "execution_count": 43,
      "outputs": [
        {
          "output_type": "error",
          "ename": "AttributeError",
          "evalue": "Can only use .str accessor with string values!",
          "traceback": [
            "\u001b[0;31m---------------------------------------------------------------------------\u001b[0m",
            "\u001b[0;31mAttributeError\u001b[0m                            Traceback (most recent call last)",
            "\u001b[0;32m/tmp/ipython-input-3112891669.py\u001b[0m in \u001b[0;36m<cell line: 0>\u001b[0;34m()\u001b[0m\n\u001b[1;32m      1\u001b[0m \u001b[0;31m# Substituir vírgula por ponto e converter para float\u001b[0m\u001b[0;34m\u001b[0m\u001b[0;34m\u001b[0m\u001b[0m\n\u001b[0;32m----> 2\u001b[0;31m \u001b[0mdf\u001b[0m\u001b[0;34m[\u001b[0m\u001b[0;34m\"MF\"\u001b[0m\u001b[0;34m]\u001b[0m \u001b[0;34m=\u001b[0m \u001b[0mdf\u001b[0m\u001b[0;34m[\u001b[0m\u001b[0;34m\"MF\"\u001b[0m\u001b[0;34m]\u001b[0m\u001b[0;34m.\u001b[0m\u001b[0mstr\u001b[0m\u001b[0;34m.\u001b[0m\u001b[0mreplace\u001b[0m\u001b[0;34m(\u001b[0m\u001b[0;34m\",\"\u001b[0m\u001b[0;34m,\u001b[0m \u001b[0;34m\".\"\u001b[0m\u001b[0;34m)\u001b[0m\u001b[0;34m.\u001b[0m\u001b[0mastype\u001b[0m\u001b[0;34m(\u001b[0m\u001b[0mfloat\u001b[0m\u001b[0;34m)\u001b[0m\u001b[0;34m\u001b[0m\u001b[0;34m\u001b[0m\u001b[0m\n\u001b[0m",
            "\u001b[0;32m/usr/local/lib/python3.12/dist-packages/pandas/core/generic.py\u001b[0m in \u001b[0;36m__getattr__\u001b[0;34m(self, name)\u001b[0m\n\u001b[1;32m   6297\u001b[0m         ):\n\u001b[1;32m   6298\u001b[0m             \u001b[0;32mreturn\u001b[0m \u001b[0mself\u001b[0m\u001b[0;34m[\u001b[0m\u001b[0mname\u001b[0m\u001b[0;34m]\u001b[0m\u001b[0;34m\u001b[0m\u001b[0;34m\u001b[0m\u001b[0m\n\u001b[0;32m-> 6299\u001b[0;31m         \u001b[0;32mreturn\u001b[0m \u001b[0mobject\u001b[0m\u001b[0;34m.\u001b[0m\u001b[0m__getattribute__\u001b[0m\u001b[0;34m(\u001b[0m\u001b[0mself\u001b[0m\u001b[0;34m,\u001b[0m \u001b[0mname\u001b[0m\u001b[0;34m)\u001b[0m\u001b[0;34m\u001b[0m\u001b[0;34m\u001b[0m\u001b[0m\n\u001b[0m\u001b[1;32m   6300\u001b[0m \u001b[0;34m\u001b[0m\u001b[0m\n\u001b[1;32m   6301\u001b[0m     \u001b[0;34m@\u001b[0m\u001b[0mfinal\u001b[0m\u001b[0;34m\u001b[0m\u001b[0;34m\u001b[0m\u001b[0m\n",
            "\u001b[0;32m/usr/local/lib/python3.12/dist-packages/pandas/core/accessor.py\u001b[0m in \u001b[0;36m__get__\u001b[0;34m(self, obj, cls)\u001b[0m\n\u001b[1;32m    222\u001b[0m             \u001b[0;31m# we're accessing the attribute of the class, i.e., Dataset.geo\u001b[0m\u001b[0;34m\u001b[0m\u001b[0;34m\u001b[0m\u001b[0m\n\u001b[1;32m    223\u001b[0m             \u001b[0;32mreturn\u001b[0m \u001b[0mself\u001b[0m\u001b[0;34m.\u001b[0m\u001b[0m_accessor\u001b[0m\u001b[0;34m\u001b[0m\u001b[0;34m\u001b[0m\u001b[0m\n\u001b[0;32m--> 224\u001b[0;31m         \u001b[0maccessor_obj\u001b[0m \u001b[0;34m=\u001b[0m \u001b[0mself\u001b[0m\u001b[0;34m.\u001b[0m\u001b[0m_accessor\u001b[0m\u001b[0;34m(\u001b[0m\u001b[0mobj\u001b[0m\u001b[0;34m)\u001b[0m\u001b[0;34m\u001b[0m\u001b[0;34m\u001b[0m\u001b[0m\n\u001b[0m\u001b[1;32m    225\u001b[0m         \u001b[0;31m# Replace the property with the accessor object. Inspired by:\u001b[0m\u001b[0;34m\u001b[0m\u001b[0;34m\u001b[0m\u001b[0m\n\u001b[1;32m    226\u001b[0m         \u001b[0;31m# https://www.pydanny.com/cached-property.html\u001b[0m\u001b[0;34m\u001b[0m\u001b[0;34m\u001b[0m\u001b[0m\n",
            "\u001b[0;32m/usr/local/lib/python3.12/dist-packages/pandas/core/strings/accessor.py\u001b[0m in \u001b[0;36m__init__\u001b[0;34m(self, data)\u001b[0m\n\u001b[1;32m    189\u001b[0m         \u001b[0;32mfrom\u001b[0m \u001b[0mpandas\u001b[0m\u001b[0;34m.\u001b[0m\u001b[0mcore\u001b[0m\u001b[0;34m.\u001b[0m\u001b[0marrays\u001b[0m\u001b[0;34m.\u001b[0m\u001b[0mstring_\u001b[0m \u001b[0;32mimport\u001b[0m \u001b[0mStringDtype\u001b[0m\u001b[0;34m\u001b[0m\u001b[0;34m\u001b[0m\u001b[0m\n\u001b[1;32m    190\u001b[0m \u001b[0;34m\u001b[0m\u001b[0m\n\u001b[0;32m--> 191\u001b[0;31m         \u001b[0mself\u001b[0m\u001b[0;34m.\u001b[0m\u001b[0m_inferred_dtype\u001b[0m \u001b[0;34m=\u001b[0m \u001b[0mself\u001b[0m\u001b[0;34m.\u001b[0m\u001b[0m_validate\u001b[0m\u001b[0;34m(\u001b[0m\u001b[0mdata\u001b[0m\u001b[0;34m)\u001b[0m\u001b[0;34m\u001b[0m\u001b[0;34m\u001b[0m\u001b[0m\n\u001b[0m\u001b[1;32m    192\u001b[0m         \u001b[0mself\u001b[0m\u001b[0;34m.\u001b[0m\u001b[0m_is_categorical\u001b[0m \u001b[0;34m=\u001b[0m \u001b[0misinstance\u001b[0m\u001b[0;34m(\u001b[0m\u001b[0mdata\u001b[0m\u001b[0;34m.\u001b[0m\u001b[0mdtype\u001b[0m\u001b[0;34m,\u001b[0m \u001b[0mCategoricalDtype\u001b[0m\u001b[0;34m)\u001b[0m\u001b[0;34m\u001b[0m\u001b[0;34m\u001b[0m\u001b[0m\n\u001b[1;32m    193\u001b[0m         \u001b[0mself\u001b[0m\u001b[0;34m.\u001b[0m\u001b[0m_is_string\u001b[0m \u001b[0;34m=\u001b[0m \u001b[0misinstance\u001b[0m\u001b[0;34m(\u001b[0m\u001b[0mdata\u001b[0m\u001b[0;34m.\u001b[0m\u001b[0mdtype\u001b[0m\u001b[0;34m,\u001b[0m \u001b[0mStringDtype\u001b[0m\u001b[0;34m)\u001b[0m\u001b[0;34m\u001b[0m\u001b[0;34m\u001b[0m\u001b[0m\n",
            "\u001b[0;32m/usr/local/lib/python3.12/dist-packages/pandas/core/strings/accessor.py\u001b[0m in \u001b[0;36m_validate\u001b[0;34m(data)\u001b[0m\n\u001b[1;32m    243\u001b[0m \u001b[0;34m\u001b[0m\u001b[0m\n\u001b[1;32m    244\u001b[0m         \u001b[0;32mif\u001b[0m \u001b[0minferred_dtype\u001b[0m \u001b[0;32mnot\u001b[0m \u001b[0;32min\u001b[0m \u001b[0mallowed_types\u001b[0m\u001b[0;34m:\u001b[0m\u001b[0;34m\u001b[0m\u001b[0;34m\u001b[0m\u001b[0m\n\u001b[0;32m--> 245\u001b[0;31m             \u001b[0;32mraise\u001b[0m \u001b[0mAttributeError\u001b[0m\u001b[0;34m(\u001b[0m\u001b[0;34m\"Can only use .str accessor with string values!\"\u001b[0m\u001b[0;34m)\u001b[0m\u001b[0;34m\u001b[0m\u001b[0;34m\u001b[0m\u001b[0m\n\u001b[0m\u001b[1;32m    246\u001b[0m         \u001b[0;32mreturn\u001b[0m \u001b[0minferred_dtype\u001b[0m\u001b[0;34m\u001b[0m\u001b[0;34m\u001b[0m\u001b[0m\n\u001b[1;32m    247\u001b[0m \u001b[0;34m\u001b[0m\u001b[0m\n",
            "\u001b[0;31mAttributeError\u001b[0m: Can only use .str accessor with string values!"
          ]
        }
      ]
    },
    {
      "cell_type": "code",
      "source": [
        "df[\"PO\"] = df[\"PO\"].str.replace(\",\", \".\").astype(float)"
      ],
      "metadata": {
        "id": "LTcbKLllxQ5u"
      },
      "execution_count": 44,
      "outputs": []
    },
    {
      "cell_type": "code",
      "source": [
        "df[\"RE\"] = df[\"RE\"].str.replace(\",\", \".\").astype(float)"
      ],
      "metadata": {
        "id": "8tHLXevNxSKU"
      },
      "execution_count": 46,
      "outputs": []
    },
    {
      "cell_type": "code",
      "source": [
        "df[\"PT\"] = df[\"PT\"].str.replace(\",\", \".\").astype(float)"
      ],
      "metadata": {
        "id": "ttaMsUYIxXLR"
      },
      "execution_count": 47,
      "outputs": []
    },
    {
      "cell_type": "code",
      "source": [
        "# Converter MF para numérico (float)\n",
        "df[\"MF\"] = pd.to_numeric(df[\"MF\"], errors=\"coerce\")\n",
        "\n",
        "# Agora pode aplicar a lógica de aprovados\n",
        "df[\"Aprovado\"] = \"Não aprovado\"\n",
        "\n",
        "for ano, vagas in vagas_dict.items():\n",
        "    mask = df[\"no\"] == ano\n",
        "    idx_aprovados = df.loc[mask].nlargest(vagas, \"MF\").index\n",
        "    df.loc[idx_aprovados, \"Aprovado\"] = \"Aprovado\"\n"
      ],
      "metadata": {
        "id": "wZVlGsBurtc_"
      },
      "execution_count": 30,
      "outputs": []
    },
    {
      "cell_type": "code",
      "source": [
        "import pandas as pd\n",
        "\n",
        "# Exemplo de tabela de vagas por ano\n",
        "vagas_dict = {\n",
        "    2020: 5,\n",
        "    2021: 3,\n",
        "    2022: 5,\n",
        "    2023: 5,\n",
        "    2024: 5,\n",
        "    2025: 9\n",
        "}\n",
        "\n",
        "\n",
        "# Criar a coluna \"Aprovado\" com base nas vagas por ano\n",
        "df[\"Aprovado\"] = \"Não aprovado\"\n",
        "\n",
        "for ano, vagas in vagas_dict.items():\n",
        "    # Seleciona apenas o ano correspondente\n",
        "    mask = df[\"Ano\"] == ano\n",
        "    # Pega os índices das maiores MFs (até o limite das vagas)\n",
        "    idx_aprovados = df.loc[mask].nlargest(vagas, \"MF\").index\n",
        "    # Marca como aprovado\n",
        "    df.loc[idx_aprovados, \"Aprovado\"] = \"Aprovado\"\n",
        "\n",
        "print(df)\n"
      ],
      "metadata": {
        "colab": {
          "base_uri": "https://localhost:8080/"
        },
        "id": "DuOK6RKaqkG0",
        "outputId": "afe844d8-ed59-44cc-e47a-37ac7557e44c"
      },
      "execution_count": 31,
      "outputs": [
        {
          "output_type": "stream",
          "name": "stdout",
          "text": [
            "     Ano  Nº Inscr.                                  Nome Data nascimento  \\\n",
            "0   2020    4000067               RHUAN FERREIRA SANT ANA        20/07/93   \n",
            "1   2020    4000104               JONATHAN MATOS DE FARIA        15/02/95   \n",
            "2   2020    4001166        JONATHAN MACHADO PINTO PEREIRA        15/01/92   \n",
            "3   2020    4001588         MICAEL LUCAS MONTEIRO PEDROSA        28/06/97   \n",
            "4   2020    4002054  EDELSO NEPOMUCENO DE OLIVEIRA JUNIOR        26/12/92   \n",
            "..   ...        ...                                   ...             ...   \n",
            "81  2024    4005773              VICTORIA DA SILVA FRANCO      02/04/1998   \n",
            "82  2024    4005829               TULIO GOMES DE OLIVEIRA      20/05/1998   \n",
            "83  2024    4006004           LEONARDO ALVES PEREIRA TUNA      09/02/1998   \n",
            "84  2024    4006282          JULIO CESAR DE OLIVEIRA MELO      20/12/2000   \n",
            "85  2024    4007170      MATHEUS GABRIEL F. DE FIGUEIREDO      11/08/1996   \n",
            "\n",
            "    Idade quando fez o concurso    PO    RE    PT    MF      Aprovado  \n",
            "0                            27  66,0  75,0  24,0  59.4  Não aprovado  \n",
            "1                            25  80,0  84,0  32,0  71.2      Aprovado  \n",
            "2                            28  72,0  80,0  20,0  63.2  Não aprovado  \n",
            "3                            23  68,0  76,5  20,0  60.1  Não aprovado  \n",
            "4                            27  68,0  81,5  24,0  61.9  Não aprovado  \n",
            "..                          ...   ...   ...   ...   ...           ...  \n",
            "81                           27  52,0  68,0   0,0  44.8  Não aprovado  \n",
            "82                           27  56,0  84,0   0,0  50.4  Não aprovado  \n",
            "83                           27  62,0  70,0  34,0  58.0  Não aprovado  \n",
            "84                           24  50,0  84,0   0,0  46.8  Não aprovado  \n",
            "85                           29  58,0  80,0   0,0  50.8  Não aprovado  \n",
            "\n",
            "[86 rows x 10 columns]\n"
          ]
        }
      ]
    },
    {
      "cell_type": "code",
      "source": [
        "# Tabela de concorrência\n",
        "concorrencia_df = pd.DataFrame({\n",
        "    \"Ano\": [2020, 2021, 2022, 2023, 2024, 2025],\n",
        "    \"inscritos\": [575, 438, 360, 338, 284, 222],\n",
        "    \"concorrencia\": [115, 146, 72, 67.6, 56.8, 24.7]\n",
        "})\n",
        "\n",
        "# Juntar com o df principal (pelo ano)\n",
        "df = df.merge(concorrencia_df, on=\"Ano\", how=\"left\")\n",
        "\n",
        "print(df.head())\n"
      ],
      "metadata": {
        "colab": {
          "base_uri": "https://localhost:8080/"
        },
        "id": "L3hrZL5YsHjN",
        "outputId": "453ff09b-2fa0-4bac-a7dd-67b854503c50"
      },
      "execution_count": 32,
      "outputs": [
        {
          "output_type": "stream",
          "name": "stdout",
          "text": [
            "    Ano  Nº Inscr.                                  Nome Data nascimento  \\\n",
            "0  2020    4000067               RHUAN FERREIRA SANT ANA        20/07/93   \n",
            "1  2020    4000104               JONATHAN MATOS DE FARIA        15/02/95   \n",
            "2  2020    4001166        JONATHAN MACHADO PINTO PEREIRA        15/01/92   \n",
            "3  2020    4001588         MICAEL LUCAS MONTEIRO PEDROSA        28/06/97   \n",
            "4  2020    4002054  EDELSO NEPOMUCENO DE OLIVEIRA JUNIOR        26/12/92   \n",
            "\n",
            "   Idade quando fez o concurso    PO    RE    PT    MF      Aprovado  \\\n",
            "0                           27  66,0  75,0  24,0  59.4  Não aprovado   \n",
            "1                           25  80,0  84,0  32,0  71.2      Aprovado   \n",
            "2                           28  72,0  80,0  20,0  63.2  Não aprovado   \n",
            "3                           23  68,0  76,5  20,0  60.1  Não aprovado   \n",
            "4                           27  68,0  81,5  24,0  61.9  Não aprovado   \n",
            "\n",
            "   inscritos  concorrencia  \n",
            "0        575         115.0  \n",
            "1        575         115.0  \n",
            "2        575         115.0  \n",
            "3        575         115.0  \n",
            "4        575         115.0  \n"
          ]
        }
      ]
    },
    {
      "cell_type": "code",
      "source": [
        "# Tabela de concorrência\n",
        "concorrencia_df = pd.DataFrame({\n",
        "    \"Ano\": [2020, 2021, 2022, 2023, 2024],\n",
        "    \"inscritos\": [575, 438, 360, 338, 284],\n",
        "    \"concorrencia\": [115, 146, 72, 67.6, 56.8]\n",
        "})\n",
        "\n",
        "# Juntar com o df principal (pelo ano)\n",
        "df = df.merge(concorrencia_df, on=\"Ano\", how=\"left\")\n",
        "\n",
        "print(df.head())"
      ],
      "metadata": {
        "colab": {
          "base_uri": "https://localhost:8080/"
        },
        "id": "iYDw8rJX6KrM",
        "outputId": "d52a8c1b-87da-47f2-9192-203ad9c34c33"
      },
      "execution_count": 50,
      "outputs": [
        {
          "output_type": "stream",
          "name": "stdout",
          "text": [
            "    Ano  Nº Inscr.                                  Nome Data nascimento  Idade quando fez o concurso    PO    RE    PT    MF      Aprovado  inscritos_x  concorrencia_x  aprovado_bin  inscritos_y  concorrencia_y\n",
            "0  2020    4000067               RHUAN FERREIRA SANT ANA        20/07/93                           27  66.0  75.0  24.0  59.4  Não aprovado          575           115.0             0          575           115.0\n",
            "1  2020    4000104               JONATHAN MATOS DE FARIA        15/02/95                           25  80.0  84.0  32.0  71.2      Aprovado          575           115.0             1          575           115.0\n",
            "2  2020    4001166        JONATHAN MACHADO PINTO PEREIRA        15/01/92                           28  72.0  80.0  20.0  63.2  Não aprovado          575           115.0             0          575           115.0\n",
            "3  2020    4001588         MICAEL LUCAS MONTEIRO PEDROSA        28/06/97                           23  68.0  76.5  20.0  60.1  Não aprovado          575           115.0             0          575           115.0\n",
            "4  2020    4002054  EDELSO NEPOMUCENO DE OLIVEIRA JUNIOR        26/12/92                           27  68.0  81.5  24.0  61.9  Não aprovado          575           115.0             0          575           115.0\n"
          ]
        }
      ]
    },
    {
      "cell_type": "code",
      "source": [
        "# Média geral por ano\n",
        "media_geral = df.groupby(\"Ano\")[\"MF\"].mean().reset_index(name=\"media_geral\")\n",
        "\n",
        "# Média apenas dos aprovados por ano\n",
        "media_aprovados = df[df[\"Aprovado\"] == \"Aprovado\"].groupby(\"Ano\")[\"MF\"].mean().reset_index(name=\"media_aprovados\")\n",
        "\n",
        "# Juntar as duas tabelas\n",
        "medias = media_geral.merge(media_aprovados, on=\"Ano\")\n",
        "\n",
        "print(medias)\n"
      ],
      "metadata": {
        "colab": {
          "base_uri": "https://localhost:8080/"
        },
        "id": "HMBLOtwJseDt",
        "outputId": "4ab2a1c7-0b8f-4727-9555-51375aef7c36"
      },
      "execution_count": 33,
      "outputs": [
        {
          "output_type": "stream",
          "name": "stdout",
          "text": [
            "    Ano  media_geral  media_aprovados\n",
            "0  2020    62.768421        69.040000\n",
            "1  2021    66.077778        73.666667\n",
            "2  2022    60.132000        68.740000\n",
            "3  2023    54.840000        60.660000\n",
            "4  2024    55.234783        64.320000\n"
          ]
        }
      ]
    },
    {
      "cell_type": "code",
      "source": [
        "import matplotlib.pyplot as plt\n",
        "import pandas as pd\n",
        "\n",
        "# --- Cálculo das médias ---\n",
        "# Média geral por ano\n",
        "media_geral = df.groupby(\"Ano\")[\"MF\"].mean().reset_index(name=\"media_geral\")\n",
        "\n",
        "# Média apenas dos aprovados por ano\n",
        "media_aprovados = (\n",
        "    df[df[\"Aprovado\"] == \"Aprovado\"]\n",
        "    .groupby(\"Ano\")[\"MF\"]\n",
        "    .mean()\n",
        "    .reset_index(name=\"media_aprovados\")\n",
        ")\n",
        "\n",
        "# Junta em um único DataFrame\n",
        "medias = media_geral.merge(media_aprovados, on=\"Ano\")\n",
        "\n",
        "# --- Gráfico ---\n",
        "x = medias[\"Ano\"]\n",
        "largura = 0.35  # largura das barras\n",
        "\n",
        "fig, ax = plt.subplots(figsize=(10,6))\n",
        "\n",
        "# Barras lado a lado\n",
        "b1 = ax.bar(x - largura/2, medias[\"media_geral\"], width=largura, label=\"Média Geral\")\n",
        "b2 = ax.bar(x + largura/2, medias[\"media_aprovados\"], width=largura, label=\"Média Aprovados\")\n",
        "\n",
        "\n",
        "# Legendas e título\n",
        "ax.set_xlabel(\"Ano\")\n",
        "ax.set_ylabel(\"Média da MF\")\n",
        "ax.set_title(\"Média das notas por ano\")\n",
        "ax.legend(title=\"Legenda\")  # aqui aparece o que é azul e o que é laranja\n",
        "plt.xticks(x)\n"
      ],
      "metadata": {
        "colab": {
          "base_uri": "https://localhost:8080/",
          "height": 747
        },
        "id": "8j3DspPTs8P2",
        "outputId": "3f8b2a1a-32f5-4add-b494-cc01e2c6e8f2"
      },
      "execution_count": 34,
      "outputs": [
        {
          "output_type": "execute_result",
          "data": {
            "text/plain": [
              "([<matplotlib.axis.XTick at 0x78e67ad9ffe0>,\n",
              "  <matplotlib.axis.XTick at 0x78e67ae3f260>,\n",
              "  <matplotlib.axis.XTick at 0x78e67ae47410>,\n",
              "  <matplotlib.axis.XTick at 0x78e67af0e7b0>,\n",
              "  <matplotlib.axis.XTick at 0x78e67af0f200>],\n",
              " [Text(2020, 0, '2020'),\n",
              "  Text(2021, 0, '2021'),\n",
              "  Text(2022, 0, '2022'),\n",
              "  Text(2023, 0, '2023'),\n",
              "  Text(2024, 0, '2024')])"
            ]
          },
          "metadata": {},
          "execution_count": 34
        },
        {
          "output_type": "display_data",
          "data": {
            "text/plain": [
              "<Figure size 1000x600 with 1 Axes>"
            ],
            "image/png": "[encoded data removed]"
          },
          "metadata": {}
        }
      ]
    },
    {
      "cell_type": "code",
      "source": [
        "import matplotlib.pyplot as plt\n",
        "\n",
        "# Agrupar média de MF por ano (opcional, se quiser mostrar junto)\n",
        "media_geral = df.groupby(\"Ano\")[\"MF\"].mean().reset_index(name=\"media_geral\")\n",
        "\n",
        "# Gráfico da concorrência por ano\n",
        "plt.figure(figsize=(8,5))\n",
        "plt.plot(concorrencia_df[\"Ano\"], concorrencia_df[\"concorrencia\"], marker='o', linestyle='-', color='blue', label=\"Concorrência\")\n",
        "plt.bar(concorrencia_df[\"Ano\"], concorrencia_df[\"inscritos\"], alpha=0.3, color='gray', label=\"Inscritos\")\n",
        "\n",
        "plt.title(\"Concorrência por Ano\")\n",
        "plt.xlabel(\"Ano\")\n",
        "plt.ylabel(\"Concorrência / Inscritos\")\n",
        "plt.legend()\n",
        "plt.grid(True)\n",
        "plt.show()\n"
      ],
      "metadata": {
        "colab": {
          "base_uri": "https://localhost:8080/",
          "height": 488
        },
        "id": "Gf1IBxjnwM2m",
        "outputId": "6942ad25-8ae4-484f-aac1-47319af2a556"
      },
      "execution_count": 51,
      "outputs": [
        {
          "output_type": "display_data",
          "data": {
            "text/plain": [
              "<Figure size 800x500 with 1 Axes>"
            ],
            "image/png": "[encoded data removed]"
          },
          "metadata": {}
        }
      ]
    },
    {
      "cell_type": "code",
      "source": [
        "# Mostra as primeiras linhas de todo o DataFrame\n",
        "pd.set_option('display.max_columns', None)  # garante que todas as colunas sejam exibidas\n",
        "pd.set_option('display.width', 1000)        # evita quebra de linha no display\n",
        "print(df.head())  # ou use df.tail() para ver o final\n"
      ],
      "metadata": {
        "colab": {
          "base_uri": "https://localhost:8080/"
        },
        "id": "VIrYVj87waLo",
        "outputId": "91b8bd07-22fb-4a47-b297-0c9141974f9e"
      },
      "execution_count": 36,
      "outputs": [
        {
          "output_type": "stream",
          "name": "stdout",
          "text": [
            "    Ano  Nº Inscr.                                  Nome Data nascimento  Idade quando fez o concurso    PO    RE    PT    MF      Aprovado  inscritos  concorrencia\n",
            "0  2020    4000067               RHUAN FERREIRA SANT ANA        20/07/93                           27  66,0  75,0  24,0  59.4  Não aprovado        575         115.0\n",
            "1  2020    4000104               JONATHAN MATOS DE FARIA        15/02/95                           25  80,0  84,0  32,0  71.2      Aprovado        575         115.0\n",
            "2  2020    4001166        JONATHAN MACHADO PINTO PEREIRA        15/01/92                           28  72,0  80,0  20,0  63.2  Não aprovado        575         115.0\n",
            "3  2020    4001588         MICAEL LUCAS MONTEIRO PEDROSA        28/06/97                           23  68,0  76,5  20,0  60.1  Não aprovado        575         115.0\n",
            "4  2020    4002054  EDELSO NEPOMUCENO DE OLIVEIRA JUNIOR        26/12/92                           27  68,0  81,5  24,0  61.9  Não aprovado        575         115.0\n"
          ]
        }
      ]
    },
    {
      "cell_type": "code",
      "source": [
        "df['aprovado_bin'] = df['Aprovado'].apply(lambda x: 1 if x == 'Aprovado' else 0)\n"
      ],
      "metadata": {
        "id": "YM8M8MP5wwsA"
      },
      "execution_count": 38,
      "outputs": []
    },
    {
      "cell_type": "code",
      "source": [
        "import statsmodels.api as sm\n",
        "\n",
        "# Variáveis independentes\n",
        "X = df[['Idade quando fez o concurso', 'PT', 'MF', 'inscritos', 'concorrencia']]\n",
        "\n",
        "# Adiciona constante\n",
        "X = sm.add_constant(X)\n",
        "\n",
        "# Variável dependente\n",
        "y = df['aprovado_bin']\n",
        "\n",
        "# Ajusta modelo logit\n",
        "model = sm.Logit(y, X)\n",
        "result = model.fit()\n",
        "\n",
        "print(result.summary())\n"
      ],
      "metadata": {
        "colab": {
          "base_uri": "https://localhost:8080/"
        },
        "id": "cDhXUU-IwoZC",
        "outputId": "cb323991-de85-4c91-dcba-24b31d05a133"
      },
      "execution_count": 49,
      "outputs": [
        {
          "output_type": "stream",
          "name": "stdout",
          "text": [
            "Optimization terminated successfully.\n",
            "         Current function value: 0.256734\n",
            "         Iterations 9\n",
            "                           Logit Regression Results                           \n",
            "==============================================================================\n",
            "Dep. Variable:           aprovado_bin   No. Observations:                   86\n",
            "Model:                          Logit   Df Residuals:                       80\n",
            "Method:                           MLE   Df Model:                            5\n",
            "Date:                Wed, 24 Sep 2025   Pseudo R-squ.:                  0.5579\n",
            "Time:                        03:31:16   Log-Likelihood:                -22.079\n",
            "converged:                       True   LL-Null:                       -49.940\n",
            "Covariance Type:            nonrobust   LLR p-value:                 9.273e-11\n",
            "===============================================================================================\n",
            "                                  coef    std err          z      P>|z|      [0.025      0.975]\n",
            "-----------------------------------------------------------------------------------------------\n",
            "const                         -29.0361     10.509     -2.763      0.006     -49.633      -8.439\n",
            "Idade quando fez o concurso    -0.0798      0.269     -0.297      0.766      -0.606       0.447\n",
            "PT                              0.1910      0.096      1.992      0.046       0.003       0.379\n",
            "MF                              0.4437      0.120      3.684      0.000       0.208       0.680\n",
            "inscritos                       0.0009      0.006      0.140      0.888      -0.011       0.013\n",
            "concorrencia                   -0.0368      0.024     -1.526      0.127      -0.084       0.010\n",
            "===============================================================================================\n",
            "\n",
            "Possibly complete quasi-separation: A fraction 0.22 of observations can be\n",
            "perfectly predicted. This might indicate that there is complete\n",
            "quasi-separation. In this case some parameters will not be identified.\n"
          ]
        }
      ]
    }
  ]
}